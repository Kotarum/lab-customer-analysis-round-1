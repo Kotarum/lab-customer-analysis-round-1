{
 "cells": [
  {
   "cell_type": "code",
   "execution_count": 14,
   "metadata": {},
   "outputs": [],
   "source": [
    "import pandas as pd"
   ]
  },
  {
   "cell_type": "markdown",
   "metadata": {},
   "source": [
    "Importing data\n"
   ]
  },
  {
   "cell_type": "code",
   "execution_count": 15,
   "metadata": {},
   "outputs": [],
   "source": [
    "data_1 = pd.read_csv(\"/home/kotarum/Documentos/Cosas/Labs/lab-customer-analysis-round-1/files_for_lab/csv_files/file1.csv\")\n",
    "data_2 = pd.read_csv(\"/home/kotarum/Documentos/Cosas/Labs/lab-customer-analysis-round-1/files_for_lab/csv_files/file2.csv\")\n",
    "data_3 = pd.read_csv(\"/home/kotarum/Documentos/Cosas/Labs/lab-customer-analysis-round-1/files_for_lab/csv_files/file3.csv\")"
   ]
  },
  {
   "cell_type": "code",
   "execution_count": 16,
   "metadata": {},
   "outputs": [
    {
     "name": "stdout",
     "output_type": "stream",
     "text": [
      "(4008, 11)\n",
      "(996, 11)\n",
      "(7070, 11)\n"
     ]
    }
   ],
   "source": [
    "print(data_1.shape)\n",
    "print(data_2.shape)\n",
    "print(data_3.shape)"
   ]
  },
  {
   "cell_type": "markdown",
   "metadata": {},
   "source": [
    "Renaming columns"
   ]
  },
  {
   "cell_type": "code",
   "execution_count": 17,
   "metadata": {},
   "outputs": [],
   "source": [
    "data_1 = data_1.rename(columns={\n",
    "    'ST':'State',\n",
    "    'GENDER':'Gender'})\n",
    "\n",
    "data_2 = data_2.rename(columns={\n",
    "    'ST':'State',\n",
    "    'GENDER':'Gender'})\n",
    "\n",
    "data_3 = data_3.rename(columns={\n",
    "    'ST':'State',\n",
    "    'GENDER':'Gender'})"
   ]
  },
  {
   "cell_type": "code",
   "execution_count": 18,
   "metadata": {},
   "outputs": [
    {
     "name": "stdout",
     "output_type": "stream",
     "text": [
      "Index(['Customer', 'State', 'Gender', 'Education', 'Customer Lifetime Value',\n",
      "       'Income', 'Monthly Premium Auto', 'Number of Open Complaints',\n",
      "       'Policy Type', 'Vehicle Class', 'Total Claim Amount'],\n",
      "      dtype='object')\n"
     ]
    }
   ],
   "source": [
    "new_columns = data_1.columns\n",
    "print(new_columns)\n"
   ]
  },
  {
   "cell_type": "code",
   "execution_count": 19,
   "metadata": {},
   "outputs": [],
   "source": [
    "data_2 = data_2.reindex(columns=new_columns)\n",
    "data_3 = data_3.reindex(columns=new_columns)"
   ]
  },
  {
   "cell_type": "markdown",
   "metadata": {},
   "source": [
    "Concatenating the dataframes into one"
   ]
  },
  {
   "cell_type": "code",
   "execution_count": 20,
   "metadata": {},
   "outputs": [],
   "source": [
    "df = pd.concat([data_1, data_2, data_3]).reset_index(drop=True)"
   ]
  },
  {
   "cell_type": "markdown",
   "metadata": {},
   "source": [
    "Data types"
   ]
  },
  {
   "cell_type": "code",
   "execution_count": null,
   "metadata": {},
   "outputs": [],
   "source": []
  },
  {
   "cell_type": "code",
   "execution_count": 21,
   "metadata": {},
   "outputs": [
    {
     "name": "stdout",
     "output_type": "stream",
     "text": [
      "Customer\n",
      "object\n",
      "\n",
      "State\n",
      "object\n",
      "\n",
      "Gender\n",
      "object\n",
      "\n",
      "Education\n",
      "object\n",
      "\n",
      "Customer Lifetime Value\n",
      "object\n",
      "\n",
      "Income\n",
      "float64\n",
      "\n",
      "Monthly Premium Auto\n",
      "float64\n",
      "\n",
      "Number of Open Complaints\n",
      "object\n",
      "\n",
      "Policy Type\n",
      "object\n",
      "\n",
      "Vehicle Class\n",
      "object\n",
      "\n",
      "Total Claim Amount\n",
      "float64\n",
      "\n"
     ]
    }
   ],
   "source": [
    "for col in df.columns:\n",
    "    print(col)\n",
    "    print(df[col].dtype)\n",
    "    print()"
   ]
  },
  {
   "cell_type": "code",
   "execution_count": 22,
   "metadata": {},
   "outputs": [
    {
     "name": "stdout",
     "output_type": "stream",
     "text": [
      "Customer\n",
      "Categorical\n",
      "\n",
      "State\n",
      "Categorical\n",
      "\n",
      "Gender\n",
      "Categorical\n",
      "\n",
      "Education\n",
      "Categorical\n",
      "\n",
      "Customer Lifetime Value\n",
      "Categorical\n",
      "\n",
      "Income\n",
      "Numerical\n",
      "\n",
      "Monthly Premium Auto\n",
      "Numerical\n",
      "\n",
      "Number of Open Complaints\n",
      "Categorical\n",
      "\n",
      "Policy Type\n",
      "Categorical\n",
      "\n",
      "Vehicle Class\n",
      "Categorical\n",
      "\n",
      "Total Claim Amount\n",
      "Numerical\n",
      "\n"
     ]
    }
   ],
   "source": [
    "for col in df.columns:\n",
    "    if df[col].dtype == object:\n",
    "        print(col)\n",
    "        print(\"Categorical\")\n",
    "        print()\n",
    "    else:\n",
    "        print(col)\n",
    "        print(\"Numerical\")\n",
    "        print()\n"
   ]
  },
  {
   "cell_type": "markdown",
   "metadata": {},
   "source": [
    "Data cleaning"
   ]
  },
  {
   "cell_type": "markdown",
   "metadata": {},
   "source": [
    "Deleting columns Education and Number of Open Complaints"
   ]
  },
  {
   "cell_type": "code",
   "execution_count": 23,
   "metadata": {},
   "outputs": [],
   "source": [
    "df = df.drop([\"Education\", \"Number of Open Complaints\"], axis=1)"
   ]
  },
  {
   "cell_type": "markdown",
   "metadata": {},
   "source": [
    "Changing the type of column to float and multiply by 100"
   ]
  },
  {
   "cell_type": "code",
   "execution_count": 24,
   "metadata": {},
   "outputs": [
    {
     "data": {
      "text/plain": [
       "0                 NaN\n",
       "1        6.979536e+07\n",
       "2        1.288743e+08\n",
       "3        7.645862e+07\n",
       "4        5.363076e+07\n",
       "             ...     \n",
       "12069    2.340599e+06\n",
       "12070    3.096511e+05\n",
       "12071    8.163890e+05\n",
       "12072    7.524442e+05\n",
       "12073    2.611837e+05\n",
       "Name: Customer Lifetime Value, Length: 12074, dtype: float64"
      ]
     },
     "execution_count": 24,
     "metadata": {},
     "output_type": "execute_result"
    }
   ],
   "source": [
    "df[\"Customer Lifetime Value\"] = df[\"Customer Lifetime Value\"].dropna()\n",
    "\n",
    "df[\"Customer Lifetime Value\"] = df[\"Customer Lifetime Value\"].astype(str)\n",
    "\n",
    "df[\"Customer Lifetime Value\"] = df[\"Customer Lifetime Value\"].str.replace('%', '').astype(float)\n",
    "\n",
    "\n",
    "df[\"Customer Lifetime Value\"]*100"
   ]
  },
  {
   "cell_type": "markdown",
   "metadata": {},
   "source": [
    "Customers with income 0 of less"
   ]
  },
  {
   "cell_type": "code",
   "execution_count": 25,
   "metadata": {},
   "outputs": [],
   "source": [
    "df_income = df.loc[df[\"Income\"] <= 0]"
   ]
  }
 ],
 "metadata": {
  "kernelspec": {
   "display_name": "ih_venv",
   "language": "python",
   "name": "python3"
  },
  "language_info": {
   "codemirror_mode": {
    "name": "ipython",
    "version": 3
   },
   "file_extension": ".py",
   "mimetype": "text/x-python",
   "name": "python",
   "nbconvert_exporter": "python",
   "pygments_lexer": "ipython3",
   "version": "3.10.12"
  }
 },
 "nbformat": 4,
 "nbformat_minor": 2
}
